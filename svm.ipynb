{
  "nbformat": 4,
  "nbformat_minor": 0,
  "metadata": {
    "colab": {
      "provenance": [],
      "authorship_tag": "ABX9TyNdjj6by35Lr/RjwJ7jvBpg",
      "include_colab_link": true
    },
    "kernelspec": {
      "name": "python3",
      "display_name": "Python 3"
    },
    "language_info": {
      "name": "python"
    }
  },
  "cells": [
    {
      "cell_type": "markdown",
      "metadata": {
        "id": "view-in-github",
        "colab_type": "text"
      },
      "source": [
        "<a href=\"https://colab.research.google.com/github/GOUTAM-RAM21/C--CODE-PRATICE/blob/main/svm.ipynb\" target=\"_parent\"><img src=\"https://colab.research.google.com/assets/colab-badge.svg\" alt=\"Open In Colab\"/></a>"
      ]
    },
    {
      "cell_type": "code",
      "execution_count": 1,
      "metadata": {
        "colab": {
          "base_uri": "https://localhost:8080/"
        },
        "id": "Bb4qu4XVSZ2j",
        "outputId": "a5443bc7-e594-431c-d4aa-400c1aacc7a3"
      },
      "outputs": [
        {
          "output_type": "stream",
          "name": "stderr",
          "text": [
            "/usr/local/lib/python3.12/dist-packages/sklearn/metrics/_classification.py:1565: UndefinedMetricWarning: Precision is ill-defined and being set to 0.0 in labels with no predicted samples. Use `zero_division` parameter to control this behavior.\n",
            "  _warn_prf(average, modifier, f\"{metric.capitalize()} is\", len(result))\n",
            "/usr/local/lib/python3.12/dist-packages/sklearn/metrics/_classification.py:1565: UndefinedMetricWarning: Recall is ill-defined and being set to 0.0 in labels with no true samples. Use `zero_division` parameter to control this behavior.\n",
            "  _warn_prf(average, modifier, f\"{metric.capitalize()} is\", len(result))\n",
            "/usr/local/lib/python3.12/dist-packages/sklearn/metrics/_classification.py:1565: UndefinedMetricWarning: Precision is ill-defined and being set to 0.0 in labels with no predicted samples. Use `zero_division` parameter to control this behavior.\n",
            "  _warn_prf(average, modifier, f\"{metric.capitalize()} is\", len(result))\n",
            "/usr/local/lib/python3.12/dist-packages/sklearn/metrics/_classification.py:1565: UndefinedMetricWarning: Recall is ill-defined and being set to 0.0 in labels with no true samples. Use `zero_division` parameter to control this behavior.\n",
            "  _warn_prf(average, modifier, f\"{metric.capitalize()} is\", len(result))\n",
            "/usr/local/lib/python3.12/dist-packages/sklearn/metrics/_classification.py:1565: UndefinedMetricWarning: Precision is ill-defined and being set to 0.0 in labels with no predicted samples. Use `zero_division` parameter to control this behavior.\n",
            "  _warn_prf(average, modifier, f\"{metric.capitalize()} is\", len(result))\n",
            "/usr/local/lib/python3.12/dist-packages/sklearn/metrics/_classification.py:1565: UndefinedMetricWarning: Recall is ill-defined and being set to 0.0 in labels with no true samples. Use `zero_division` parameter to control this behavior.\n",
            "  _warn_prf(average, modifier, f\"{metric.capitalize()} is\", len(result))\n"
          ]
        },
        {
          "output_type": "stream",
          "name": "stdout",
          "text": [
            "Dataset:\n",
            "    Customer_Age  Monthly_Charge  Churn\n",
            "0            25             200      0\n",
            "1            30             250      0\n",
            "2            35             300      1\n",
            "3            40             350      1\n",
            "4            45             400      0\n",
            "5            50             450      1\n",
            "\n",
            "Model Accuracy: 0.00\n",
            "\n",
            "Classification Report:\n",
            "               precision    recall  f1-score   support\n",
            "\n",
            "           0       0.00      0.00      0.00       2.0\n",
            "           1       0.00      0.00      0.00       0.0\n",
            "\n",
            "    accuracy                           0.00       2.0\n",
            "   macro avg       0.00      0.00      0.00       2.0\n",
            "weighted avg       0.00      0.00      0.00       2.0\n",
            "\n",
            "\n",
            "--- User Input Prediction ---\n",
            "Enter customer age: 25\n",
            "Enter customer monthly charge: 200\n",
            "⚠️ The customer is at risk of CHURNING.\n"
          ]
        },
        {
          "output_type": "stream",
          "name": "stderr",
          "text": [
            "/usr/local/lib/python3.12/dist-packages/sklearn/utils/validation.py:2739: UserWarning: X does not have valid feature names, but SVC was fitted with feature names\n",
            "  warnings.warn(\n"
          ]
        }
      ],
      "source": [
        "# Step 1: Import necessary libraries\n",
        "import numpy as np               # Numerical operations (arrays, matrices)\n",
        "import pandas as pd              # Data handling (tables)\n",
        "from sklearn.model_selection import train_test_split  # Splitting data into train & test\n",
        "from sklearn.svm import SVC      # Support Vector Classifier (our ML model)\n",
        "from sklearn.metrics import accuracy_score, classification_report  # Model evaluation\n",
        "\n",
        "# Step 2: Data Preparation\n",
        "# Create dataset manually (example data)\n",
        "data = {\n",
        "    'Customer_Age': [25, 30, 35, 40, 45, 50],    # Customer ages\n",
        "    'Monthly_Charge': [200, 250, 300, 350, 400, 450],  # Monthly charges\n",
        "    'Churn': [0, 0, 1, 1, 0, 1]                  # 0 = Stay, 1 = Churn\n",
        "}\n",
        "\n",
        "# Convert dictionary → DataFrame\n",
        "df = pd.DataFrame(data)\n",
        "print(\"Dataset:\\n\", df)\n",
        "\n",
        "# Separate features (X) and target (y)\n",
        "X = df[['Customer_Age', 'Monthly_Charge']]   # Input features\n",
        "y = df['Churn']                              # Output (label)\n",
        "\n",
        "# Step 3: Train-Test Split (80% training, 20% testing)\n",
        "X_train, X_test, y_train, y_test = train_test_split(\n",
        "    X, y, test_size=0.2, random_state=42\n",
        ")\n",
        "\n",
        "# Step 4: Model Initialization & Training\n",
        "svc_model = SVC(kernel='linear', C=1.0)  # Linear SVM classifier\n",
        "svc_model.fit(X_train, y_train)          # Train the model\n",
        "\n",
        "# Step 5: Predictions & Evaluation\n",
        "y_pred = svc_model.predict(X_test)       # Predict on test data\n",
        "\n",
        "# Accuracy score\n",
        "accuracy = accuracy_score(y_test, y_pred)\n",
        "print(f\"\\nModel Accuracy: {accuracy:.2f}\")\n",
        "\n",
        "# Classification report (precision, recall, F1-score)\n",
        "print(\"\\nClassification Report:\\n\", classification_report(y_test, y_pred))\n",
        "\n",
        "# Step 6: User Input Prediction\n",
        "print(\"\\n--- User Input Prediction ---\")\n",
        "user_age = float(input(\"Enter customer age: \"))\n",
        "user_monthly_charge = float(input(\"Enter customer monthly charge: \"))\n",
        "\n",
        "# User input as numpy 2D array\n",
        "user_input = np.array([[user_age, user_monthly_charge]])\n",
        "\n",
        "# Make prediction\n",
        "prediction = svc_model.predict(user_input)\n",
        "\n",
        "# Show result\n",
        "if prediction[0] == 0:\n",
        "    print(\"✅ The customer is likely to STAY.\")\n",
        "else:\n",
        "    print(\"⚠️ The customer is at risk of CHURNING.\")\n"
      ]
    }
  ]
}